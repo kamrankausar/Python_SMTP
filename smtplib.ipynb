{
 "cells": [
  {
   "cell_type": "code",
   "execution_count": 13,
   "metadata": {},
   "outputs": [
    {
     "ename": "SyntaxError",
     "evalue": "Missing parentheses in call to 'print'. Did you mean print('successfully sent the mail')? (<ipython-input-13-1724c8f8b98b>, line 21)",
     "output_type": "error",
     "traceback": [
      "\u001b[0;36m  File \u001b[0;32m\"<ipython-input-13-1724c8f8b98b>\"\u001b[0;36m, line \u001b[0;32m21\u001b[0m\n\u001b[0;31m    print 'successfully sent the mail'\u001b[0m\n\u001b[0m                                     ^\u001b[0m\n\u001b[0;31mSyntaxError\u001b[0m\u001b[0;31m:\u001b[0m Missing parentheses in call to 'print'. Did you mean print('successfully sent the mail')?\n"
     ]
    }
   ],
   "source": [
    "import smtplib\n",
    "gmail_user = \"yourmail@gmail.com\"\n",
    "gmail_pwd = \"mypassword\"\n",
    "FROM = 'yourmail@gmail.com'\n",
    "TO = ['receiber@email.com', 'vinoths@xerago.com'] #must be a list\n",
    "SUBJECT1 = \"Testing sending using gmail\"\n",
    "SUBJECT2 = 'Hi Kamran kausar, are you'\n",
    "TEXT = \"Testing sending mail using gmail servers\"\n",
    "# Prepare actual message\n",
    "message = \"\"\"\\From: %s\\nTo: %s\\nSubject: %s\\n\\n%s\n",
    "\"\"\" % (FROM, \", \".join(TO), SUBJECT, TEXT)\n",
    "try:\n",
    "  #server = smtplib.SMTP(SERVER) \n",
    "  server = smtplib.SMTP(\"smtp.gmail.com\", 587) #or port 465 doesn't seem to work!\n",
    "  server.ehlo()\n",
    "  server.starttls()\n",
    "  server.login(gmail_user, gmail_pwd)\n",
    "  server.sendmail(FROM, TO, message)\n",
    "  #server.quit()\n",
    "  server.close()\n",
    "  print 'successfully sent the mail'\n",
    "except:\n",
    "  print \"failed to send mail\""
   ]
  },
  {
   "cell_type": "code",
   "execution_count": 15,
   "metadata": {},
   "outputs": [],
   "source": [
    "import os"
   ]
  },
  {
   "cell_type": "code",
   "execution_count": 16,
   "metadata": {},
   "outputs": [
    {
     "data": {
      "text/plain": [
       "'DL1XTEC001'"
      ]
     },
     "execution_count": 16,
     "metadata": {},
     "output_type": "execute_result"
    }
   ],
   "source": [
    "os.uname().nodename"
   ]
  },
  {
   "cell_type": "code",
   "execution_count": 5,
   "metadata": {},
   "outputs": [],
   "source": [
    "import smtplib\n",
    "#import os\n",
    "import socket"
   ]
  },
  {
   "cell_type": "code",
   "execution_count": 2,
   "metadata": {},
   "outputs": [
    {
     "data": {
      "text/plain": [
       "'DL1XTEC001'"
      ]
     },
     "execution_count": 2,
     "metadata": {},
     "output_type": "execute_result"
    }
   ],
   "source": [
    "#import socket\n",
    "cvm_hostname = os.uname().nodename\n",
    "cvm_hostname"
   ]
  },
  {
   "cell_type": "code",
   "execution_count": 8,
   "metadata": {},
   "outputs": [],
   "source": [
    "user = 'kamran@xerago.com'\n",
    "pwd = '12345+password'\n",
    "FROM = ['kamran@xerago.com']\n",
    "TO = ['kamran@xerago.com'] #must be a list\n",
    "SUBJECT = \"CVM AUTO ML CRITICAL Issues\"\n",
    "smtp_mail_server = \"xmail.xerago.com\"\n",
    "cvm_automl_hostname = socket.gethostname()\n",
    "#TEXT1 = \"Camp c2 model not build\"\n",
    "TEXT2 = \"Message unable to sent\""
   ]
  },
  {
   "cell_type": "code",
   "execution_count": 7,
   "metadata": {},
   "outputs": [],
   "source": [
    "# Prepare actual message\n",
    "#message1 = \"\"\"\\From: %s\\nTo: %s\\nSubject: %s\\n\\n%s\n",
    "#\"\"\" % (FROM, \", \".join(TO), SUBJECT, TEXT1)"
   ]
  },
  {
   "cell_type": "code",
   "execution_count": 4,
   "metadata": {},
   "outputs": [],
   "source": [
    "# Prepare actual message\n",
    "message2 = \"\"\"\\From: %s\\nTo: %s\\nSubject: %s\\n\\n%s\n",
    "\"\"\" % (FROM, \", \".join(TO), SUBJECT, TEXT2)"
   ]
  },
  {
   "cell_type": "code",
   "execution_count": 3,
   "metadata": {},
   "outputs": [],
   "source": [
    "Camp = ['c1', 'c2']"
   ]
  },
  {
   "cell_type": "code",
   "execution_count": 4,
   "metadata": {},
   "outputs": [
    {
     "name": "stdout",
     "output_type": "stream",
     "text": [
      "Successfully sent the mail\n"
     ]
    }
   ],
   "source": [
    "\n",
    "try:\n",
    "\n",
    "  #server = smtplib.SMTP(SERVER) \n",
    "  server = smtplib.SMTP(host = smtp_mail_server, port = 25, local_hostname = cvm_automl_hostname) #or port 465 doesn't seem to work!\n",
    "  #server.ehlo()\n",
    "  server.starttls()\n",
    "  ##server.login(user, pwd)\n",
    "  TEXT1 = \"File not found\" + str(Camp) +' on host ' + cvm_automl_hostname\n",
    "  # Prepare actual message\n",
    "  message1 = \"\"\"\\From: %s\\nTo: %s\\nSubject: %s\\n\\n%s\n",
    "  \"\"\" % (FROM, \", \".join(TO), SUBJECT, TEXT1)  \n",
    "  server.sendmail(FROM, TO, message1)\n",
    "  server.quit()\n",
    "  ##server.close()\n",
    "  print('Successfully sent the mail')\n",
    "except:\n",
    "  print(\"Failed to send mail\")"
   ]
  },
  {
   "cell_type": "code",
   "execution_count": 6,
   "metadata": {},
   "outputs": [
    {
     "name": "stdout",
     "output_type": "stream",
     "text": [
      "Successfully sent the mail\n"
     ]
    }
   ],
   "source": [
    "try:\n",
    "  #server = smtplib.SMTP(SERVER) \n",
    "  server = smtplib.SMTP(\"xmail.xerago.com\", 25) #or port 465 doesn't seem to work!\n",
    "  #server.ehlo()\n",
    "  server.starttls()\n",
    "  ##server.login(gmail_user, gmail_pwd)\n",
    "  server.sendmail(FROM, TO, message2)\n",
    "  server.quit()\n",
    "  ##server.close()\n",
    "  print('Successfully sent the mail')\n",
    "except:\n",
    "  print(\"Failed to send mail\")"
   ]
  },
  {
   "cell_type": "code",
   "execution_count": null,
   "metadata": {},
   "outputs": [],
   "source": []
  }
 ],
 "metadata": {
  "kernelspec": {
   "display_name": "Python 3",
   "language": "python",
   "name": "python3"
  },
  "language_info": {
   "codemirror_mode": {
    "name": "ipython",
    "version": 3
   },
   "file_extension": ".py",
   "mimetype": "text/x-python",
   "name": "python",
   "nbconvert_exporter": "python",
   "pygments_lexer": "ipython3",
   "version": "3.6.5"
  }
 },
 "nbformat": 4,
 "nbformat_minor": 2
}
